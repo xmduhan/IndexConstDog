{
 "cells": [
  {
   "cell_type": "code",
   "execution_count": 1,
   "metadata": {
    "collapsed": false
   },
   "outputs": [
    {
     "data": {
      "text/plain": [
       "'IndexConstDog.settings'"
      ]
     },
     "execution_count": 1,
     "metadata": {},
     "output_type": "execute_result"
    }
   ],
   "source": [
    "# 导入django环境\n",
    "import django\n",
    "import sys, os\n",
    "pwd = !pwd  # 项目位置\n",
    "path = pwd[0]\n",
    "settings = '%s.settings' % path.split('/')[-1]\n",
    "sys.path.append(path)\n",
    "os.chdir(path)\n",
    "os.environ.setdefault(\"DJANGO_SETTINGS_MODULE\", settings)"
   ]
  },
  {
   "cell_type": "code",
   "execution_count": 3,
   "metadata": {
    "collapsed": false
   },
   "outputs": [],
   "source": [
    "from __future__ import division\n",
    "from subprocess import call\n",
    "import pandas as pd"
   ]
  },
  {
   "cell_type": "code",
   "execution_count": 14,
   "metadata": {
    "collapsed": false
   },
   "outputs": [],
   "source": [
    "from indexconst.models import Index\n",
    "from indexconst.models import IndexConst"
   ]
  },
  {
   "cell_type": "code",
   "execution_count": 17,
   "metadata": {
    "collapsed": true
   },
   "outputs": [],
   "source": [
    "def flashIndexConst(index):\n",
    "    \"\"\"\n",
    "    更新指数的成分数据\n",
    "    \"\"\"\n",
    "    #  获取链接信息\n",
    "    filename = 'weight.xls'\n",
    "    url = index.loadUrl\n",
    "\n",
    "    # 下载文件\n",
    "    call(['rm', filename])\n",
    "    result = call(['wget', url, '-O', filename])\n",
    "    if result != 0:\n",
    "        raise Exception(u'下载文件失败')\n",
    "\n",
    "    # 读取文件并转化格式\n",
    "    df = pd.io.excel.read_excel(filename)\n",
    "    df = df[['Date', 'Constituent Code', 'Weight(%)']]\n",
    "    df.columns = ['date', 'code', 'weight']\n",
    "    df['code'] = df.code.apply(lambda x: str(x).zfill(6))\n",
    "    df['weight']  = df['weight'] / 100\n",
    "\n",
    "    # 保存到参数表\n",
    "    for i, row in df.iterrows():\n",
    "        date = row['date']\n",
    "        code = row['code']\n",
    "        weight = row['weight']\n",
    "        IndexConst(index=index, date=date, code=code, weight=weight).save()"
   ]
  },
  {
   "cell_type": "code",
   "execution_count": 19,
   "metadata": {
    "collapsed": false
   },
   "outputs": [
    {
     "name": "stdout",
     "output_type": "stream",
     "text": [
      "沪深300:开始更新\n",
      "沪深300:更新完成\n",
      "中证500:开始更新\n",
      "中证500:更新完成\n"
     ]
    }
   ],
   "source": [
    "for index in  Index.objects.all():\n",
    "    print u'%s:开始更新' % index.name\n",
    "    try:\n",
    "        flashIndexConst(index)\n",
    "        print u'%s:更新完成' % index.name\n",
    "    except:\n",
    "         print u'%s:出错...' % index.name    "
   ]
  }
 ],
 "metadata": {
  "kernelspec": {
   "display_name": "Python 2",
   "language": "python",
   "name": "python2"
  },
  "language_info": {
   "codemirror_mode": {
    "name": "ipython",
    "version": 2
   },
   "file_extension": ".py",
   "mimetype": "text/x-python",
   "name": "python",
   "nbconvert_exporter": "python",
   "pygments_lexer": "ipython2",
   "version": "2.7.6"
  }
 },
 "nbformat": 4,
 "nbformat_minor": 0
}
